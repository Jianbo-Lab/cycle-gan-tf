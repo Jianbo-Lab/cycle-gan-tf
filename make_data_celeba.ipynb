{
 "cells": [
  {
   "cell_type": "code",
   "execution_count": 1,
   "metadata": {
    "collapsed": false
   },
   "outputs": [
    {
     "name": "stderr",
     "output_type": "stream",
     "text": [
      "100%|██████████| 202599/202599 [13:18<00:00, 253.62it/s]\n"
     ]
    }
   ],
   "source": [
    "# import numpy as np \n",
    "# from os import listdir\n",
    "# from os.path import isfile, join\n",
    "# import matplotlib.image as mpimg\n",
    "# def extract_files(path):\n",
    "# \tfilenames = [f for f in listdir(path)]\n",
    "# \tfor filename in filenames:\n",
    "# \t\theader = filename.split('.')[0]\n",
    "# \t\tbirthyear = header.split('-')[1]\n",
    "# \t\tphotoyear = header.split('-')[-1]\n",
    "# \t\tage = int(photoyear) - int(birthyear)\n",
    "\n",
    "# \t\timage = mpimg.imread(filename)\n",
    "# \t\tprint image.shape\n",
    "from glob import glob\n",
    "import numpy as np\n",
    "import scipy.misc\n",
    "import matplotlib.pyplot as plt \n",
    "import os\n",
    "import pandas as pd\n",
    "import h5py\n",
    "import tqdm\n",
    "data = glob(os.path.join(\"img_align_celeba\", \"*.jpg\"))\n",
    "data = np.sort(data)\n",
    "def imread(path):\n",
    "\treturn scipy.misc.imread(path).astype(np.float)\n",
    "\n",
    "def resize_width(image, width=64.):\n",
    "\th, w = np.shape(image)[:2]\n",
    "\treturn scipy.misc.imresize(image,[int((float(h)/w)*width),width])\n",
    "\t\t\n",
    "def center_crop(x, height=64):\n",
    "\th= np.shape(x)[0]\n",
    "\tj = int(round((h - height)/2.))\n",
    "\treturn x[j:j+height,:,:]\n",
    "\n",
    "def get_image(image_path, width=64, height=64):\n",
    "\treturn center_crop(resize_width(imread(image_path), width = width),height=height)\n",
    "\n",
    "dim = 64 \n",
    "\n",
    "images = np.zeros((len(data),dim*dim*3), dtype = np.uint8)\n",
    "\n",
    "# make a dataset\n",
    "for i in tqdm.tqdm(range(len(data))):\n",
    "    #for i in tqdm.tqdm(range(10)):\n",
    "    image = get_image(data[i], dim,dim)\n",
    "    images[i] = image.flatten()\n",
    "\n",
    "attribute_file = 'list_attr_celeba.txt'\n",
    "\n",
    "with open(attribute_file, 'r') as f:\n",
    "    num_examples = f.readline()\n",
    "    headers = f.readline()\n",
    "headers = headers.split()\n",
    "\n",
    "label_input = pd.read_fwf(attribute_file,skiprows=2,\n",
    "                       widths = [10,3,3,3,3,3,3,3,3,3,3,3,3,3,3,3,3,3,3,3,3,3,3,3,3,3,3,3, \n",
    "                                 3,3,3,3,3,3,3,3,3,3,3],\n",
    "                   index_col=0,\n",
    "                   header=None\n",
    "                  )"
   ]
  },
  {
   "cell_type": "code",
   "execution_count": 3,
   "metadata": {
    "collapsed": false
   },
   "outputs": [],
   "source": [
    "labels = label_input.astype(int).as_matrix()\n",
    "\n",
    "with h5py.File(''.join(['datasets/faces_dataset_new.h5']), 'w') as f:\n",
    "    dset_face = f.create_dataset(\"images\", data = images)\n",
    "    dset_headers = f.create_dataset('headers', data = headers)\n",
    "    dset_label_input = f.create_dataset('label_input', data = label_input)"
   ]
  },
  {
   "cell_type": "code",
   "execution_count": null,
   "metadata": {
    "collapsed": true
   },
   "outputs": [],
   "source": []
  },
  {
   "cell_type": "code",
   "execution_count": null,
   "metadata": {
    "collapsed": true
   },
   "outputs": [],
   "source": []
  }
 ],
 "metadata": {
  "anaconda-cloud": {},
  "kernelspec": {
   "display_name": "Python [default]",
   "language": "python",
   "name": "python2"
  },
  "language_info": {
   "codemirror_mode": {
    "name": "ipython",
    "version": 2
   },
   "file_extension": ".py",
   "mimetype": "text/x-python",
   "name": "python",
   "nbconvert_exporter": "python",
   "pygments_lexer": "ipython2",
   "version": "2.7.12"
  }
 },
 "nbformat": 4,
 "nbformat_minor": 1
}
